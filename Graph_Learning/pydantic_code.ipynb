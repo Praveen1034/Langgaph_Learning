{
 "cells": [
  {
   "cell_type": "markdown",
   "id": "24ad242a",
   "metadata": {},
   "source": [
    "## *lambda*"
   ]
  },
  {
   "cell_type": "code",
   "execution_count": 5,
   "id": "f9924823",
   "metadata": {},
   "outputs": [
    {
     "name": "stdout",
     "output_type": "stream",
     "text": [
      "30\n"
     ]
    }
   ],
   "source": [
    "a=10\n",
    "b=20\n",
    "c = lambda a,b : a+b \n",
    "print(c(a,b))"
   ]
  },
  {
   "cell_type": "code",
   "execution_count": 7,
   "id": "f97acb72",
   "metadata": {},
   "outputs": [
    {
     "name": "stdout",
     "output_type": "stream",
     "text": [
      "30\n"
     ]
    }
   ],
   "source": [
    "f=10\n",
    "d=20\n",
    "c = (lambda a,b : a+b )(d,f)\n",
    "print(c)"
   ]
  },
  {
   "cell_type": "markdown",
   "id": "65001259",
   "metadata": {},
   "source": []
  }
 ],
 "metadata": {
  "kernelspec": {
   "display_name": "Python 3",
   "language": "python",
   "name": "python3"
  },
  "language_info": {
   "codemirror_mode": {
    "name": "ipython",
    "version": 3
   },
   "file_extension": ".py",
   "mimetype": "text/x-python",
   "name": "python",
   "nbconvert_exporter": "python",
   "pygments_lexer": "ipython3",
   "version": "3.11.3"
  }
 },
 "nbformat": 4,
 "nbformat_minor": 5
}
