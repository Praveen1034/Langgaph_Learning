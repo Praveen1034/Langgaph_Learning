{
 "cells": [
  {
   "cell_type": "markdown",
   "id": "24ad242a",
   "metadata": {},
   "source": [
    "## *lambda*"
   ]
  },
  {
   "cell_type": "code",
   "execution_count": 5,
   "id": "f9924823",
   "metadata": {},
   "outputs": [
    {
     "name": "stdout",
     "output_type": "stream",
     "text": [
      "30\n"
     ]
    }
   ],
   "source": [
    "a=10\n",
    "b=20\n",
    "c = lambda a,b : a+b \n",
    "print(c(a,b))"
   ]
  },
  {
   "cell_type": "code",
   "execution_count": 7,
   "id": "f97acb72",
   "metadata": {},
   "outputs": [
    {
     "name": "stdout",
     "output_type": "stream",
     "text": [
      "30\n"
     ]
    }
   ],
   "source": [
    "f=10\n",
    "d=20\n",
    "c = (lambda a,b : a+b )(d,f)\n",
    "print(c)"
   ]
  },
  {
   "cell_type": "markdown",
   "id": "65001259",
   "metadata": {},
   "source": []
  },
  {
   "cell_type": "code",
   "execution_count": 10,
   "id": "6df9aa54",
   "metadata": {},
   "outputs": [
    {
     "name": "stdout",
     "output_type": "stream",
     "text": [
      "a 321\n",
      "b 321\n",
      "a+b 642\n"
     ]
    }
   ],
   "source": [
    "a= [1,2,3]\n",
    "a=a[::-1]\n",
    "a=int(\"\".join(map(str,a)))\n",
    "print(\"a\",a)\n",
    "b= [1,2,3]\n",
    "b=b[::-1]\n",
    "b=int(\"\".join(map(str,b)))\n",
    "print(\"b\",b)\n",
    "print(\"a+b\",a+b)"
   ]
  },
  {
   "cell_type": "code",
   "execution_count": 64,
   "id": "f1c2eaaa",
   "metadata": {},
   "outputs": [
    {
     "name": "stdout",
     "output_type": "stream",
     "text": [
      "AB\n",
      "CA\n",
      "AD\n"
     ]
    }
   ],
   "source": [
    "string = \"AABCAAADA\"\n",
    "k =3\n",
    "# break the string into k parts in a,b,c\n",
    "n = len(string)//k\n",
    "for i in range(n):\n",
    "    substring = string[i*k:(i+1)*k]\n",
    "    seen = set()\n",
    "    result = []\n",
    "    for ch in substring:\n",
    "        if ch not in seen:\n",
    "            seen.add(ch)\n",
    "            result.append(ch)\n",
    "    print(\"\".join(result))"
   ]
  },
  {
   "cell_type": "code",
   "execution_count": 63,
   "id": "d4714412",
   "metadata": {},
   "outputs": [
    {
     "name": "stdout",
     "output_type": "stream",
     "text": [
      "AB\n",
      "CA\n",
      "AD\n"
     ]
    }
   ],
   "source": [
    "string = \"AABCAAADA\"\n",
    "k =3\n",
    "# break the string into k parts in a,b,c\n",
    "def merge_the_tools(string, k):\n",
    "    n = len(string) // k\n",
    "    for i in range(n):\n",
    "        substring = string[i*k:(i+1)*k]\n",
    "        seen = set()\n",
    "        result = []\n",
    "        for ch in substring:\n",
    "            if ch not in seen:\n",
    "                seen.add(ch)\n",
    "                result.append(ch)\n",
    "        print(\"\".join(result))\n",
    "\n",
    "merge_the_tools(string, k)"
   ]
  },
  {
   "cell_type": "code",
   "execution_count": 60,
   "id": "47f26690",
   "metadata": {},
   "outputs": [
    {
     "name": "stdout",
     "output_type": "stream",
     "text": [
      "abcd\n"
     ]
    }
   ],
   "source": [
    "L = [\"a\", \"b\", \"c\", \"d\"]\n",
    "\n",
    "print(\"\".join(L))"
   ]
  },
  {
   "cell_type": "code",
   "execution_count": null,
   "id": "68e8af1e",
   "metadata": {},
   "outputs": [],
   "source": []
  }
 ],
 "metadata": {
  "kernelspec": {
   "display_name": "venv",
   "language": "python",
   "name": "python3"
  },
  "language_info": {
   "codemirror_mode": {
    "name": "ipython",
    "version": 3
   },
   "file_extension": ".py",
   "mimetype": "text/x-python",
   "name": "python",
   "nbconvert_exporter": "python",
   "pygments_lexer": "ipython3",
   "version": "3.13.2"
  }
 },
 "nbformat": 4,
 "nbformat_minor": 5
}
